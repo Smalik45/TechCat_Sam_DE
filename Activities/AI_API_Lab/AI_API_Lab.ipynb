{
 "cells": [
  {
   "cell_type": "code",
   "execution_count": 2,
   "metadata": {},
   "outputs": [],
   "source": [
    "import boto3\n",
    "import json\n",
    "import time\n",
    "import pandas as pd\n",
    "import configparser\n",
    "import s3fs\n",
    "# Read AWS credentials from config file\n",
    "config = configparser.ConfigParser()\n",
    "config.read('aws.cfg')\n",
    "\n",
    "aws_access_key_id = config['AWS']['aws_access_key_id']\n",
    "aws_secret_access_key = config['AWS']['aws_secret_access_key']\n",
    "region_name = config['AWS']['region_name']"
   ]
  },
  {
   "cell_type": "code",
   "execution_count": 8,
   "metadata": {},
   "outputs": [],
   "source": [
    "s3 =  boto3.client(\n",
    "    's3',\n",
    "    aws_access_key_id=aws_access_key_id,\n",
    "    aws_secret_access_key=aws_secret_access_key,\n",
    "    region_name=region_name\n",
    ")"
   ]
  },
  {
   "cell_type": "code",
   "execution_count": 15,
   "metadata": {},
   "outputs": [
    {
     "data": {
      "text/html": [
       "<div>\n",
       "<style scoped>\n",
       "    .dataframe tbody tr th:only-of-type {\n",
       "        vertical-align: middle;\n",
       "    }\n",
       "\n",
       "    .dataframe tbody tr th {\n",
       "        vertical-align: top;\n",
       "    }\n",
       "\n",
       "    .dataframe thead th {\n",
       "        text-align: right;\n",
       "    }\n",
       "</style>\n",
       "<table border=\"1\" class=\"dataframe\">\n",
       "  <thead>\n",
       "    <tr style=\"text-align: right;\">\n",
       "      <th></th>\n",
       "      <th>PRODUCT ID</th>\n",
       "      <th>PRODUCT DESCRIPTION</th>\n",
       "      <th>REVIEW ID</th>\n",
       "    </tr>\n",
       "  </thead>\n",
       "  <tbody>\n",
       "    <tr>\n",
       "      <th>0</th>\n",
       "      <td>1</td>\n",
       "      <td>High-quality smartphone with excellent camera.</td>\n",
       "      <td>R1</td>\n",
       "    </tr>\n",
       "    <tr>\n",
       "      <th>1</th>\n",
       "      <td>1</td>\n",
       "      <td>High-quality smartphone with excellent camera.</td>\n",
       "      <td>R2</td>\n",
       "    </tr>\n",
       "    <tr>\n",
       "      <th>2</th>\n",
       "      <td>2</td>\n",
       "      <td>Durable laptop with long battery life.</td>\n",
       "      <td>R3</td>\n",
       "    </tr>\n",
       "    <tr>\n",
       "      <th>3</th>\n",
       "      <td>2</td>\n",
       "      <td>Durable laptop with long battery life.</td>\n",
       "      <td>R4</td>\n",
       "    </tr>\n",
       "    <tr>\n",
       "      <th>4</th>\n",
       "      <td>3</td>\n",
       "      <td>Wireless noise-canceling headphones.</td>\n",
       "      <td>R5</td>\n",
       "    </tr>\n",
       "  </tbody>\n",
       "</table>\n",
       "</div>"
      ],
      "text/plain": [
       "   PRODUCT ID                             PRODUCT DESCRIPTION REVIEW ID\n",
       "0           1  High-quality smartphone with excellent camera.        R1\n",
       "1           1  High-quality smartphone with excellent camera.        R2\n",
       "2           2          Durable laptop with long battery life.        R3\n",
       "3           2          Durable laptop with long battery life.        R4\n",
       "4           3            Wireless noise-canceling headphones.        R5"
      ]
     },
     "execution_count": 15,
     "metadata": {},
     "output_type": "execute_result"
    }
   ],
   "source": [
    "\n",
    "review_df = pd.read_csv('s3://techcatalyst-public/resources/sentiment/review.csv')\n",
    "review_df.head()\n",
    "product_df.head()"
   ]
  },
  {
   "cell_type": "code",
   "execution_count": 18,
   "metadata": {},
   "outputs": [],
   "source": [
    "merged_df = pd.merge(product_df, review_df, on='REVIEW ID')"
   ]
  },
  {
   "cell_type": "code",
   "execution_count": 4,
   "metadata": {},
   "outputs": [],
   "source": [
    "comprehend = boto3.client(service_name='comprehend', region_name='us-west-2', aws_access_key_id=aws_access_key_id, aws_secret_access_key=aws_secret_access_key)"
   ]
  },
  {
   "cell_type": "code",
   "execution_count": 19,
   "metadata": {},
   "outputs": [],
   "source": [
    "def get_sentiment(mytxt):\n",
    "     \n",
    "    response = comprehend.detect_sentiment(\n",
    "    Text= mytxt,\n",
    "    LanguageCode='en')\n",
    "     \n",
    "    return response['Sentiment']"
   ]
  },
  {
   "cell_type": "code",
   "execution_count": 52,
   "metadata": {},
   "outputs": [
    {
     "ename": "NameError",
     "evalue": "name 'x' is not defined",
     "output_type": "error",
     "traceback": [
      "\u001b[0;31m---------------------------------------------------------------------------\u001b[0m",
      "\u001b[0;31mNameError\u001b[0m                                 Traceback (most recent call last)",
      "Cell \u001b[0;32mIn[52], line 1\u001b[0m\n\u001b[0;32m----> 1\u001b[0m merged_df[\u001b[38;5;124m'\u001b[39m\u001b[38;5;124mSentiment\u001b[39m\u001b[38;5;124m'\u001b[39m] \u001b[38;5;241m=\u001b[39m merged_df[\u001b[38;5;124m'\u001b[39m\u001b[38;5;124mREVIEW TEXT\u001b[39m\u001b[38;5;124m'\u001b[39m]\u001b[38;5;241m.\u001b[39mapply(\u001b[38;5;28;01mlambda\u001b[39;00m:x , get_sentiment(\u001b[38;5;28mstr\u001b[39m(\u001b[43mx\u001b[49m)))\n",
      "\u001b[0;31mNameError\u001b[0m: name 'x' is not defined"
     ]
    }
   ],
   "source": [
    "merged_df['Sentiment'] = merged_df['REVIEW TEXT'].apply(lambda\n",
    "x\n",
    ": get_sentiment(\n",
    "str\n",
    "(\n",
    "x\n",
    ")))"
   ]
  },
  {
   "cell_type": "code",
   "execution_count": 6,
   "metadata": {},
   "outputs": [
    {
     "ename": "NameError",
     "evalue": "name 'merged_df' is not defined",
     "output_type": "error",
     "traceback": [
      "\u001b[0;31m---------------------------------------------------------------------------\u001b[0m",
      "\u001b[0;31mNameError\u001b[0m                                 Traceback (most recent call last)",
      "Cell \u001b[0;32mIn[6], line 3\u001b[0m\n\u001b[1;32m      1\u001b[0m bucket_name \u001b[38;5;241m=\u001b[39m \u001b[38;5;124m'\u001b[39m\u001b[38;5;124mtechcatalyst-public\u001b[39m\u001b[38;5;124m'\u001b[39m\n\u001b[1;32m      2\u001b[0m dst \u001b[38;5;241m=\u001b[39m \u001b[38;5;124mf\u001b[39m\u001b[38;5;124m'\u001b[39m\u001b[38;5;124ms3://\u001b[39m\u001b[38;5;132;01m{\u001b[39;00mbucket_name\u001b[38;5;132;01m}\u001b[39;00m\u001b[38;5;124m/smalik/product_sentiment.csv\u001b[39m\u001b[38;5;124m'\u001b[39m\n\u001b[0;32m----> 3\u001b[0m \u001b[43mmerged_df\u001b[49m\u001b[38;5;241m.\u001b[39mto_csv(dst, storage_options\u001b[38;5;241m=\u001b[39m{\u001b[38;5;124m'\u001b[39m\u001b[38;5;124mkey\u001b[39m\u001b[38;5;124m'\u001b[39m:aws_access_key_id,\u001b[38;5;124m'\u001b[39m\u001b[38;5;124msecret\u001b[39m\u001b[38;5;124m'\u001b[39m:aws_secret_access_key})\n",
      "\u001b[0;31mNameError\u001b[0m: name 'merged_df' is not defined"
     ]
    }
   ],
   "source": [
    "bucket_name = 'techcatalyst-public'\n",
    "dst = f's3://{bucket_name}/smalik/product_sentiment.csv'\n",
    "merged_df.to_csv(dst, storage_options={'key':aws_access_key_id,'secret':aws_secret_access_key})"
   ]
  },
  {
   "cell_type": "code",
   "execution_count": 39,
   "metadata": {},
   "outputs": [
    {
     "data": {
      "image/png": "[encoded data removed]",
      "text/plain": [
       "<Figure size 640x480 with 1 Axes>"
      ]
     },
     "metadata": {},
     "output_type": "display_data"
    }
   ],
   "source": [
    "ax = merged_df.Sentiment.value_counts().plot(kind='bar')\n",
    "plt.title(\"Sentiment Count for Reviews\")\n",
    "plt.savefig('sentiment_analysis.jpg', format='jpg')"
   ]
  },
  {
   "cell_type": "code",
   "execution_count": 57,
   "metadata": {},
   "outputs": [],
   "source": [
    "\n",
    "filename = 'sentiment_analysis.jpg'\n",
    "key = 'smalik/sentiment_analysis.jpg'\n",
    "with open(filename, 'rb') as file_obj:\n",
    "    s3.upload_fileobj(file_obj, bucket_name, key)\n",
    " \n"
   ]
  },
  {
   "cell_type": "code",
   "execution_count": 31,
   "metadata": {},
   "outputs": [],
   "source": [
    "rekognition = boto3.client(service_name='rekognition', region_name='us-west-2', aws_access_key_id=aws_access_key_id, aws_secret_access_key=aws_secret_access_key)"
   ]
  },
  {
   "cell_type": "code",
   "execution_count": 40,
   "metadata": {},
   "outputs": [],
   "source": [
    "states = pd.read_csv(f's3://{bucket_name}/resources/license-plates/states.csv')\n",
    "states_list = states['0'].to_list()"
   ]
  },
  {
   "cell_type": "code",
   "execution_count": 44,
   "metadata": {},
   "outputs": [
    {
     "data": {
      "text/plain": [
       "[]"
      ]
     },
     "metadata": {},
     "output_type": "display_data"
    },
    {
     "data": {
      "text/plain": [
       "[]"
      ]
     },
     "metadata": {},
     "output_type": "display_data"
    },
    {
     "data": {
      "text/plain": [
       "[]"
      ]
     },
     "metadata": {},
     "output_type": "display_data"
    },
    {
     "data": {
      "text/plain": [
       "[]"
      ]
     },
     "metadata": {},
     "output_type": "display_data"
    },
    {
     "data": {
      "text/plain": [
       "['massachusetts']"
      ]
     },
     "metadata": {},
     "output_type": "display_data"
    },
    {
     "data": {
      "text/plain": [
       "[]"
      ]
     },
     "metadata": {},
     "output_type": "display_data"
    },
    {
     "data": {
      "text/plain": [
       "['california']"
      ]
     },
     "metadata": {},
     "output_type": "display_data"
    },
    {
     "data": {
      "text/plain": [
       "['nevada']"
      ]
     },
     "metadata": {},
     "output_type": "display_data"
    },
    {
     "data": {
      "text/plain": [
       "['oh']"
      ]
     },
     "metadata": {},
     "output_type": "display_data"
    },
    {
     "data": {
      "text/plain": [
       "[]"
      ]
     },
     "metadata": {},
     "output_type": "display_data"
    }
   ],
   "source": [
    "response = s3.list_objects_v2(Bucket = bucket, Prefix = prefix)\n",
    "documents = [item['Key'] for item in response.get('Contents',[])]\n",
    "\n",
    "documents.pop(0)\n",
    "documents.pop(-1)\n",
    "\n",
    "for doc in documents:\n",
    "    response = rekognition.detect_text(\n",
    "        Image={'S3Object': {'Bucket':bucket, 'Name': doc}} \n",
    "    )\n",
    "    detected_text = [text_detection['DetectedText'] for text_detection in response['TextDetections']]\n",
    "\n",
    "    matched_states = [state.lower() for state in states_list if state in ' '.join(detected_text)]\n",
    "    display(matched_states)\n",
    "\n"
   ]
  },
  {
   "cell_type": "code",
   "execution_count": 50,
   "metadata": {},
   "outputs": [
    {
     "data": {
      "text/plain": [
       "{'ResponseMetadata': {'RequestId': 'S306K3J9SAC2HN2R',\n",
       "  'HostId': 'e1t/D58CmSCdbiVW+ynxjtv7BYEd5N2tEItMSFPumu5Z0IHaiMA4E3p2TvO6Kq94oNEOojAUC1PDgro1isQ8pw==',\n",
       "  'HTTPStatusCode': 200,\n",
       "  'HTTPHeaders': {'x-amz-id-2': 'e1t/D58CmSCdbiVW+ynxjtv7BYEd5N2tEItMSFPumu5Z0IHaiMA4E3p2TvO6Kq94oNEOojAUC1PDgro1isQ8pw==',\n",
       "   'x-amz-request-id': 'S306K3J9SAC2HN2R',\n",
       "   'date': 'Fri, 26 Jul 2024 13:23:01 GMT',\n",
       "   'x-amz-server-side-encryption': 'AES256',\n",
       "   'etag': '\"d41d8cd98f00b204e9800998ecf8427e\"',\n",
       "   'server': 'AmazonS3',\n",
       "   'content-length': '0'},\n",
       "  'RetryAttempts': 0},\n",
       " 'ETag': '\"d41d8cd98f00b204e9800998ecf8427e\"',\n",
       " 'ServerSideEncryption': 'AES256'}"
      ]
     },
     "execution_count": 50,
     "metadata": {},
     "output_type": "execute_result"
    }
   ],
   "source": [
    "bucket_name = 'techcatalyst-public'\n",
    "dst = f's3://{bucket_name}/smalik/license_states.csv'\n",
    "s3.put_object(\n",
    "    Body=\"\\n\".join(matched_states),\n",
    "    Key=dst,\n",
    "    Bucket=bucket_name,\n",
    ")"
   ]
  }
 ],
 "metadata": {
  "kernelspec": {
   "display_name": "Python 3",
   "language": "python",
   "name": "python3"
  },
  "language_info": {
   "codemirror_mode": {
    "name": "ipython",
    "version": 3
   },
   "file_extension": ".py",
   "mimetype": "text/x-python",
   "name": "python",
   "nbconvert_exporter": "python",
   "pygments_lexer": "ipython3",
   "version": "3.10.13"
  }
 },
 "nbformat": 4,
 "nbformat_minor": 2
}
